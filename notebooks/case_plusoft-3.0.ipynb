{
 "cells": [
  {
   "cell_type": "markdown",
   "id": "b15948ef",
   "metadata": {
    "ExecuteTime": {
     "end_time": "2022-03-24T18:35:16.611025Z",
     "start_time": "2022-03-24T18:35:15.874910Z"
    }
   },
   "source": [
    "Problema de negócio: Uma grande multinacional varejista do ramo de supermercados deseja ingressar no mercado brasileiro\n",
    "\n",
    "    - Dizer ao cliente o porque ele deve entrar nesse mercado utilizando esses grupos.\n",
    "    - Depois da realização da separação por grupos, como ainda vão ter muitos disponíveis, aplicar novamente a metodologia de análise para ter um número satisfatório.\n",
    "\n",
    "- Realize uma classificação dos municípios brasileiros com base nas informações disponíveis e faça uma caracterização dos municípios em grupos.\n",
    "    - Separar os munícipos em grupos: \n",
    "\n",
    "\n",
    "- Elabore uma forma de classificar um novo município entre os grupos já criados na etapa anterior!\n",
    "\n",
    "\n",
    "- Responda em sua apresentação quais grupos de municípios deveriam ser a porta de entrada para empresa no país e porque!"
   ]
  },
  {
   "cell_type": "markdown",
   "id": "16185c96",
   "metadata": {},
   "source": [
    "Métricas de clusterização:\n",
    "\n",
    "    - WSS (within sum square)\n",
    "    - SS ( Silhoute Score ) "
   ]
  },
  {
   "cell_type": "markdown",
   "id": "52524e09",
   "metadata": {},
   "source": [
    "# 0.0 Imports"
   ]
  },
  {
   "cell_type": "code",
   "execution_count": null,
   "id": "bcdee599",
   "metadata": {
    "ExecuteTime": {
     "end_time": "2022-03-27T05:29:28.606423Z",
     "start_time": "2022-03-27T05:15:35.208296Z"
    }
   },
   "outputs": [],
   "source": []
  },
  {
   "cell_type": "code",
   "execution_count": 2,
   "id": "dd8e6fa3",
   "metadata": {
    "ExecuteTime": {
     "end_time": "2022-03-28T03:04:42.400191Z",
     "start_time": "2022-03-28T03:04:23.676242Z"
    }
   },
   "outputs": [
    {
     "name": "stderr",
     "output_type": "stream",
     "text": [
      "D:\\Anaconda\\envs\\plusoft\\lib\\site-packages\\tqdm\\auto.py:22: TqdmWarning: IProgress not found. Please update jupyter and ipywidgets. See https://ipywidgets.readthedocs.io/en/stable/user_install.html\n",
      "  from .autonotebook import tqdm as notebook_tqdm\n"
     ]
    },
    {
     "ename": "ModuleNotFoundError",
     "evalue": "No module named 'umap.umap_'",
     "output_type": "error",
     "traceback": [
      "\u001b[1;31m---------------------------------------------------------------------------\u001b[0m",
      "\u001b[1;31mModuleNotFoundError\u001b[0m                       Traceback (most recent call last)",
      "Input \u001b[1;32mIn [2]\u001b[0m, in \u001b[0;36m<cell line: 16>\u001b[1;34m()\u001b[0m\n\u001b[0;32m     13\u001b[0m \u001b[38;5;28;01mfrom\u001b[39;00m \u001b[38;5;21;01msklearn\u001b[39;00m \u001b[38;5;28;01mimport\u001b[39;00m decomposition \u001b[38;5;28;01mas\u001b[39;00m dd\n\u001b[0;32m     15\u001b[0m \u001b[38;5;28;01mfrom\u001b[39;00m \u001b[38;5;21;01myellowbrick\u001b[39;00m\u001b[38;5;21;01m.\u001b[39;00m\u001b[38;5;21;01mcluster\u001b[39;00m \u001b[38;5;28;01mimport\u001b[39;00m KElbowVisualizer, SilhouetteVisualizer\n\u001b[1;32m---> 16\u001b[0m \u001b[38;5;28;01mimport\u001b[39;00m \u001b[38;5;21;01mumap\u001b[39;00m\u001b[38;5;21;01m.\u001b[39;00m\u001b[38;5;21;01mumap_\u001b[39;00m \u001b[38;5;28;01mas\u001b[39;00m \u001b[38;5;21;01mumap\u001b[39;00m\n",
      "\u001b[1;31mModuleNotFoundError\u001b[0m: No module named 'umap.umap_'"
     ]
    }
   ],
   "source": [
    "\n",
    "import pandas as pd\n",
    "from pandas_profiling import ProfileReport \n",
    "import numpy as np\n",
    "import seaborn as sns\n",
    "from matplotlib import pyplot as plt\n",
    "from plotly import express as px\n",
    "\n",
    "from IPython.core.display import HTML\n",
    "\n",
    "from sklearn import cluster as c\n",
    "from sklearn import metrics as m\n",
    "from sklearn import preprocessing as pp\n",
    "from sklearn import decomposition as dd\n",
    "\n",
    "from yellowbrick.cluster import KElbowVisualizer, SilhouetteVisualizer\n",
    "import umap.umap_ as umap\n"
   ]
  },
  {
   "cell_type": "code",
   "execution_count": null,
   "id": "8aff9fec",
   "metadata": {},
   "outputs": [],
   "source": []
  },
  {
   "cell_type": "markdown",
   "id": "7c9e2913",
   "metadata": {},
   "source": [
    "## 0.1 Helper Functions"
   ]
  },
  {
   "cell_type": "code",
   "execution_count": null,
   "id": "e55513cf",
   "metadata": {
    "ExecuteTime": {
     "end_time": "2022-03-28T03:04:42.402193Z",
     "start_time": "2022-03-28T03:04:42.402193Z"
    }
   },
   "outputs": [],
   "source": [
    "def jupyter_settings():\n",
    "  %matplotlib inline\n",
    "  %pylab inline\n",
    "  plt.style.use( 'bmh' )\n",
    "  plt.rcParams['figure.figsize'] = [25, 12]\n",
    "  plt.rcParams['font.size'] = 24\n",
    "  display( HTML( '<style>.container { width:100% !important; }</style>') )\n",
    "  pd.options.display.max_columns = None\n",
    "  pd.options.display.max_rows = None\n",
    "  pd.set_option( 'display.expand_frame_repr', False )\n",
    "  sns.set()"
   ]
  },
  {
   "cell_type": "code",
   "execution_count": null,
   "id": "828a0311",
   "metadata": {
    "ExecuteTime": {
     "end_time": "2022-03-28T03:04:42.404193Z",
     "start_time": "2022-03-28T03:04:42.404193Z"
    }
   },
   "outputs": [],
   "source": [
    "jupyter_settings()"
   ]
  },
  {
   "cell_type": "markdown",
   "id": "1d97fc38",
   "metadata": {
    "ExecuteTime": {
     "end_time": "2022-03-26T03:04:33.073870Z",
     "start_time": "2022-03-26T03:04:33.061878Z"
    }
   },
   "source": [
    "## 0.2 Load Dataset"
   ]
  },
  {
   "cell_type": "code",
   "execution_count": null,
   "id": "01c4844e",
   "metadata": {
    "ExecuteTime": {
     "end_time": "2022-03-28T03:04:42.405193Z",
     "start_time": "2022-03-28T03:04:42.405193Z"
    }
   },
   "outputs": [],
   "source": [
    "df_raw = pd.read_excel('case_plusoft01.xls')\n",
    "df_raw.head()"
   ]
  },
  {
   "cell_type": "code",
   "execution_count": null,
   "id": "66dd82a6",
   "metadata": {
    "ExecuteTime": {
     "end_time": "2022-03-28T03:04:42.407192Z",
     "start_time": "2022-03-28T03:04:42.406192Z"
    }
   },
   "outputs": [],
   "source": [
    "df_raw.head()"
   ]
  },
  {
   "cell_type": "markdown",
   "id": "0076810e",
   "metadata": {},
   "source": [
    "# 1.0 Descrição dos Dados"
   ]
  },
  {
   "cell_type": "code",
   "execution_count": null,
   "id": "ff06d545",
   "metadata": {
    "ExecuteTime": {
     "end_time": "2022-03-28T03:04:42.408192Z",
     "start_time": "2022-03-28T03:04:42.408192Z"
    }
   },
   "outputs": [],
   "source": [
    "df1 = df_raw.copy()"
   ]
  },
  {
   "cell_type": "markdown",
   "id": "9a69cb4a",
   "metadata": {
    "ExecuteTime": {
     "end_time": "2022-03-26T03:01:28.226056Z",
     "start_time": "2022-03-26T03:01:28.221080Z"
    }
   },
   "source": [
    "## 1.1 Dimensão dos dados"
   ]
  },
  {
   "cell_type": "code",
   "execution_count": null,
   "id": "6e6881d2",
   "metadata": {
    "ExecuteTime": {
     "end_time": "2022-03-28T03:04:42.409192Z",
     "start_time": "2022-03-28T03:04:42.409192Z"
    }
   },
   "outputs": [],
   "source": [
    "print( 'Number of Rows: {}'.format( df1.shape[0] ) )\n",
    "print( 'Number of Cols: {}'.format( df1.shape[1] ) )"
   ]
  },
  {
   "cell_type": "markdown",
   "id": "71775581",
   "metadata": {
    "ExecuteTime": {
     "end_time": "2022-03-26T03:01:51.418301Z",
     "start_time": "2022-03-26T03:01:51.404304Z"
    }
   },
   "source": [
    "## 1.2 Tipo dos dados"
   ]
  },
  {
   "cell_type": "code",
   "execution_count": null,
   "id": "9d0e870a",
   "metadata": {
    "ExecuteTime": {
     "end_time": "2022-03-28T03:04:42.411192Z",
     "start_time": "2022-03-28T03:04:42.411192Z"
    }
   },
   "outputs": [],
   "source": [
    "df1.dtypes"
   ]
  },
  {
   "cell_type": "markdown",
   "id": "75c2b39f",
   "metadata": {
    "ExecuteTime": {
     "end_time": "2022-03-26T03:02:11.772521Z",
     "start_time": "2022-03-26T03:02:11.764543Z"
    }
   },
   "source": [
    "## 1.3 Check NA"
   ]
  },
  {
   "cell_type": "code",
   "execution_count": null,
   "id": "63c2e0c0",
   "metadata": {
    "ExecuteTime": {
     "end_time": "2022-03-28T03:04:42.412195Z",
     "start_time": "2022-03-28T03:04:42.412195Z"
    }
   },
   "outputs": [],
   "source": [
    "# verificação na tabela de dados NAN\n",
    "df1.isna().sum()"
   ]
  },
  {
   "cell_type": "markdown",
   "id": "eaa0b399",
   "metadata": {},
   "source": [
    "## 1.4 Estatística Descritiva"
   ]
  },
  {
   "cell_type": "markdown",
   "id": "569098ce",
   "metadata": {
    "ExecuteTime": {
     "end_time": "2022-03-26T03:08:53.411444Z",
     "start_time": "2022-03-26T03:08:53.405425Z"
    }
   },
   "source": [
    "### 1.4.1 Atributos Numéricos"
   ]
  },
  {
   "cell_type": "markdown",
   "id": "3a31b12b",
   "metadata": {},
   "source": [
    "- Na primeira rodada, não realizo a estatistica descritiva"
   ]
  },
  {
   "cell_type": "code",
   "execution_count": null,
   "id": "67b67b93",
   "metadata": {
    "ExecuteTime": {
     "end_time": "2022-03-28T03:04:42.414192Z",
     "start_time": "2022-03-28T03:04:42.414192Z"
    }
   },
   "outputs": [],
   "source": [
    "df1 = df1.select_dtypes(exclude = ['object'])\n",
    "df1.head()"
   ]
  },
  {
   "cell_type": "code",
   "execution_count": null,
   "id": "13e29eff",
   "metadata": {
    "ExecuteTime": {
     "end_time": "2022-03-28T03:04:42.415191Z",
     "start_time": "2022-03-28T03:04:42.415191Z"
    }
   },
   "outputs": [],
   "source": [
    "df1.columns"
   ]
  },
  {
   "cell_type": "code",
   "execution_count": null,
   "id": "e6036e04",
   "metadata": {
    "ExecuteTime": {
     "end_time": "2022-03-28T03:04:42.417193Z",
     "start_time": "2022-03-28T03:04:42.417193Z"
    }
   },
   "outputs": [],
   "source": [
    "# tendência central: Média e Mediana\n",
    "ct1 = pd.DataFrame(df1.apply(np.mean)).T\n",
    "ct2 = pd.DataFrame(df1.apply(np.median) ).T"
   ]
  },
  {
   "cell_type": "code",
   "execution_count": null,
   "id": "a53f793d",
   "metadata": {
    "ExecuteTime": {
     "end_time": "2022-03-28T03:04:42.418194Z",
     "start_time": "2022-03-28T03:04:42.418194Z"
    }
   },
   "outputs": [],
   "source": [
    "# dispersão: std, min, max, range, skew, kurtosis\n",
    "\n",
    "d1 = pd.DataFrame(df1.apply(np.std) ).T\n",
    "d2 = pd.DataFrame(df1.apply(min ) ).T\n",
    "d3 = pd.DataFrame(df1.apply(max ) ).T\n",
    "d4 = pd.DataFrame(df1.apply(lambda x: x.max() - x.min() )).T\n",
    "d5 = pd.DataFrame(df1.apply(lambda x: x.skew() )).T\n",
    "d6 = pd.DataFrame(df1.apply(lambda x: x.kurtosis() )).T"
   ]
  },
  {
   "cell_type": "code",
   "execution_count": null,
   "id": "972e478f",
   "metadata": {
    "ExecuteTime": {
     "end_time": "2022-03-28T03:04:42.419193Z",
     "start_time": "2022-03-28T03:04:42.419193Z"
    },
    "scrolled": true
   },
   "outputs": [],
   "source": [
    "m = pd.concat( [d2, d3, d4, ct1,ct2, d1, d5, d6] ).T.reset_index()\n",
    "m.columns = ['attributes', 'min', 'max', 'range', 'mean', 'median', 'std',\n",
    "             'skew', 'kurtosis']"
   ]
  },
  {
   "cell_type": "code",
   "execution_count": null,
   "id": "8086460c",
   "metadata": {
    "ExecuteTime": {
     "end_time": "2022-03-28T03:04:42.421192Z",
     "start_time": "2022-03-28T03:04:42.420192Z"
    }
   },
   "outputs": [],
   "source": [
    "m"
   ]
  },
  {
   "cell_type": "markdown",
   "id": "186a3b9f",
   "metadata": {},
   "source": [
    "# 2.0 Feature Engineering\n"
   ]
  },
  {
   "cell_type": "markdown",
   "id": "9afbc549",
   "metadata": {},
   "source": [
    "## 2.1 Criação das features"
   ]
  },
  {
   "cell_type": "code",
   "execution_count": null,
   "id": "7c8d26b5",
   "metadata": {
    "ExecuteTime": {
     "end_time": "2022-03-28T03:04:42.422194Z",
     "start_time": "2022-03-28T03:04:42.422194Z"
    }
   },
   "outputs": [],
   "source": [
    "df2 = df1.copy()\n"
   ]
  },
  {
   "cell_type": "code",
   "execution_count": null,
   "id": "d366e871",
   "metadata": {
    "ExecuteTime": {
     "end_time": "2022-03-28T03:04:42.423193Z",
     "start_time": "2022-03-28T03:04:42.423193Z"
    }
   },
   "outputs": [],
   "source": [
    "##### features populacionais ######\n",
    " \n",
    "\n",
    "df2['cresc_popu_1991_2000'] = ( df2['População total, 2000'] - df2['População total, 1991']) / df2['População total, 1991']\n",
    "\n",
    "\n",
    "#### features financeiras\n",
    "\n",
    "## Alimentos in natura: 7,29% + Alimentos industrializados: 12,40% + Sabões e artigos de limpeza: 2,12 = 21,81%\n",
    "df2['receita_pop_mercado_2000']  = (df2['População total, 2000'] * df2['Renda per Capita, 2000'] ) * 0.22\n",
    "\n",
    "\n"
   ]
  },
  {
   "cell_type": "code",
   "execution_count": null,
   "id": "d5023e7f",
   "metadata": {
    "ExecuteTime": {
     "end_time": "2022-03-28T03:04:42.424192Z",
     "start_time": "2022-03-28T03:04:42.424192Z"
    },
    "scrolled": true
   },
   "outputs": [],
   "source": [
    "df2.head()"
   ]
  },
  {
   "cell_type": "markdown",
   "id": "6e719eef",
   "metadata": {},
   "source": [
    "# 3.0 Filtragem das Variáveis"
   ]
  },
  {
   "cell_type": "code",
   "execution_count": null,
   "id": "e90eccd3",
   "metadata": {
    "ExecuteTime": {
     "end_time": "2022-03-28T03:04:42.424192Z",
     "start_time": "2022-03-28T03:04:42.424192Z"
    }
   },
   "outputs": [],
   "source": [
    "df3 = df2.copy()\n",
    "df3.head()"
   ]
  },
  {
   "cell_type": "markdown",
   "id": "53bb6e96",
   "metadata": {},
   "source": [
    "# 4.0 Análise Exploratória dos Dados (EDA)"
   ]
  },
  {
   "cell_type": "code",
   "execution_count": null,
   "id": "95cce31c",
   "metadata": {
    "ExecuteTime": {
     "end_time": "2022-03-28T03:04:42.425192Z",
     "start_time": "2022-03-28T03:04:42.425192Z"
    }
   },
   "outputs": [],
   "source": [
    "df4 = df3.copy()\n",
    "print( 'Number of Cols: {}'.format( df4.shape[1] ) )"
   ]
  },
  {
   "cell_type": "markdown",
   "id": "a6672d36",
   "metadata": {
    "ExecuteTime": {
     "end_time": "2022-03-25T00:16:59.306940Z",
     "start_time": "2022-03-25T00:16:59.299927Z"
    }
   },
   "source": [
    "## 4.1 Análise Univariada\n"
   ]
  },
  {
   "cell_type": "code",
   "execution_count": null,
   "id": "11bca77c",
   "metadata": {
    "ExecuteTime": {
     "end_time": "2022-03-28T03:04:42.426194Z",
     "start_time": "2022-03-28T03:04:42.426194Z"
    },
    "scrolled": true
   },
   "outputs": [],
   "source": [
    "profile = ProfileReport(df4 )\n",
    "profile.to_file ( 'output.html' )"
   ]
  },
  {
   "cell_type": "code",
   "execution_count": null,
   "id": "9f24873c",
   "metadata": {
    "ExecuteTime": {
     "end_time": "2022-03-27T00:39:04.600226Z",
     "start_time": "2022-03-27T00:39:04.550035Z"
    }
   },
   "outputs": [],
   "source": []
  },
  {
   "cell_type": "code",
   "execution_count": null,
   "id": "9ccbbcba",
   "metadata": {
    "ExecuteTime": {
     "end_time": "2022-03-28T03:04:42.427194Z",
     "start_time": "2022-03-28T03:04:42.427194Z"
    }
   },
   "outputs": [],
   "source": [
    "df4.dtypes"
   ]
  },
  {
   "cell_type": "code",
   "execution_count": null,
   "id": "483cae2a",
   "metadata": {
    "ExecuteTime": {
     "end_time": "2022-03-28T03:04:42.428193Z",
     "start_time": "2022-03-28T03:04:42.428193Z"
    }
   },
   "outputs": [],
   "source": [
    "#features de área\n",
    "df4['Área (km²)']\n",
    "df4['Distância à capital (km)']\n",
    "\n",
    "df4[['Área (km²)','Distância à capital (km)']].hist(bins = 25);"
   ]
  },
  {
   "cell_type": "code",
   "execution_count": null,
   "id": "8201415d",
   "metadata": {
    "ExecuteTime": {
     "end_time": "2022-03-28T03:04:42.429191Z",
     "start_time": "2022-03-28T03:04:42.429191Z"
    }
   },
   "outputs": [],
   "source": [
    "#features de natalidade\n",
    "df4['Esperança de vida ao nascer, 2000']\n",
    "df4['Mortalidade até um ano de idade, 2000']\n",
    "df4['Taxa de fecundidade total, 2000']\n",
    "\n",
    "df4[['Esperança de vida ao nascer, 2000','Mortalidade até um ano de idade, 2000',\n",
    "     'Taxa de fecundidade total, 2000'  ]].hist();"
   ]
  },
  {
   "cell_type": "code",
   "execution_count": null,
   "id": "2fe142f3",
   "metadata": {
    "ExecuteTime": {
     "end_time": "2022-03-28T03:04:42.430193Z",
     "start_time": "2022-03-28T03:04:42.430193Z"
    }
   },
   "outputs": [],
   "source": [
    "#features de alfabetização\n",
    "df4['Percentual de pessoas de 25 anos ou mais analfabetas, 2000']\n",
    "df4['Taxa bruta de freqüência à escola, 2000']\n",
    "df4['Taxa de alfabetização, 2000']\n",
    "df4['Média de anos de estudo das pessoas de 25 anos ou mais de idade, 2000']\n",
    "\n",
    "df4[['Percentual de pessoas de 25 anos ou mais analfabetas, 2000',\n",
    "     'Taxa bruta de freqüência à escola, 2000',\n",
    "     'Taxa de alfabetização, 2000',\n",
    "     'Média de anos de estudo das pessoas de 25 anos ou mais de idade, 2000'     \n",
    "    ]].hist();"
   ]
  },
  {
   "cell_type": "code",
   "execution_count": null,
   "id": "7b7c6651",
   "metadata": {
    "ExecuteTime": {
     "end_time": "2022-03-28T03:04:42.431196Z",
     "start_time": "2022-03-28T03:04:42.431196Z"
    }
   },
   "outputs": [],
   "source": [
    "#features de população\n",
    "df4['População de 25 anos ou mais de idade, 1991']\n",
    "df4['População de 25 anos ou mais de idade, 2000']\n",
    "df4['População de 65 anos ou mais de idade, 1991']\n",
    "df4['População de 65 anos ou mais de idade, 2000']\n",
    "df4['População total, 1991']\n",
    "df4['População total, 2000']\n",
    "df4['População urbana, 2000']\n",
    "df4['População rural, 2000']\n",
    "df4['cresc_popu_1991_2000']\n",
    "\n",
    "df4[['População de 25 anos ou mais de idade, 1991',\n",
    "    'População de 25 anos ou mais de idade, 2000',\n",
    "     'População de 65 anos ou mais de idade, 1991',\n",
    "     'População de 65 anos ou mais de idade, 2000',\n",
    "     'População total, 1991',\n",
    "     'População total, 2000',\n",
    "     'População urbana, 2000',\n",
    "     'População rural, 2000',\n",
    "     'cresc_popu_1991_2000' \n",
    "     ]].hist(bins = 25);"
   ]
  },
  {
   "cell_type": "code",
   "execution_count": null,
   "id": "f8ac08c1",
   "metadata": {
    "ExecuteTime": {
     "end_time": "2022-03-28T03:04:42.433194Z",
     "start_time": "2022-03-28T03:04:42.433194Z"
    }
   },
   "outputs": [],
   "source": [
    "#features de desenvolvimento socio-econômico\n",
    "df4['Renda per Capita, 2000']\n",
    "df4['Índice de Gini, 2000']\n",
    "df4['Intensidade da indigência, 2000']\n",
    "df4['Intensidade da pobreza, 2000']\n",
    "df4['Índice de Desenvolvimento Humano Municipal, 2000']\n",
    "\n",
    "df4[['Índice de Gini, 2000',\n",
    "     'Intensidade da indigência, 2000','Intensidade da pobreza, 2000',\n",
    "     'Índice de Desenvolvimento Humano Municipal, 2000'\n",
    "    ]].hist(bins = 25);"
   ]
  },
  {
   "cell_type": "markdown",
   "id": "643f5609",
   "metadata": {},
   "source": [
    "## 4.2 Análise Bivariada"
   ]
  },
  {
   "cell_type": "markdown",
   "id": "5e662604",
   "metadata": {},
   "source": [
    "Análise da população total em relação a renda per capita"
   ]
  },
  {
   "cell_type": "code",
   "execution_count": null,
   "id": "d72cda8d",
   "metadata": {
    "ExecuteTime": {
     "end_time": "2022-03-28T03:04:42.434194Z",
     "start_time": "2022-03-28T03:04:42.434194Z"
    }
   },
   "outputs": [],
   "source": [
    "plt.subplot( 1, 2, 1 )\n",
    "aux1 = df4[['População total, 2000', 'Renda per Capita, 2000']].groupby( 'População total, 2000' ).sum().reset_index()\n",
    "sns.scatterplot( x ='População total, 2000', y='Renda per Capita, 2000', data=aux1 );\n",
    "\n",
    "\n",
    "plt.subplot( 1, 2, 2 )\n",
    "bins = list( np.arange( 0, 500000, 50000) )\n",
    "aux1['populacao_total_binned'] = pd.cut( aux1['População total, 2000'],bins=bins )\n",
    "aux2 = aux1[['populacao_total_binned', 'Renda per Capita, 2000']].groupby('populacao_total_binned').sum().reset_index()\n",
    "sns.barplot( x='populacao_total_binned', y='Renda per Capita, 2000', data=aux2 );\n",
    "plt.xticks( rotation=90 );"
   ]
  },
  {
   "cell_type": "markdown",
   "id": "b8d44e85",
   "metadata": {},
   "source": [
    "## 4.3 Análise Multivariada"
   ]
  },
  {
   "cell_type": "code",
   "execution_count": null,
   "id": "2d9e8b52",
   "metadata": {
    "ExecuteTime": {
     "end_time": "2022-03-26T19:28:31.773524Z",
     "start_time": "2022-03-26T19:28:29.173526Z"
    }
   },
   "outputs": [],
   "source": []
  },
  {
   "cell_type": "code",
   "execution_count": null,
   "id": "bbf669a2",
   "metadata": {},
   "outputs": [],
   "source": []
  },
  {
   "cell_type": "markdown",
   "id": "5bb70a1c",
   "metadata": {},
   "source": [
    "## 4.4 Análise do Espaço"
   ]
  },
  {
   "cell_type": "code",
   "execution_count": null,
   "id": "d5d97e90",
   "metadata": {
    "ExecuteTime": {
     "end_time": "2022-03-28T03:04:42.435195Z",
     "start_time": "2022-03-28T03:04:42.435195Z"
    }
   },
   "outputs": [],
   "source": [
    "df43 = df4.drop(columns = ['Código']).copy()"
   ]
  },
  {
   "cell_type": "code",
   "execution_count": null,
   "id": "05c88438",
   "metadata": {
    "ExecuteTime": {
     "end_time": "2022-03-28T03:04:42.436194Z",
     "start_time": "2022-03-28T03:04:42.436194Z"
    }
   },
   "outputs": [],
   "source": [
    "mm = pp.MinMaxScaler()\n",
    "\n",
    "   \n",
    "df43['lat'] = mm.fit_transform(df43[['lat']])   \n",
    "df43['long'] = mm.fit_transform(df43[['long']])   \n",
    "df43['Área (km²)'] = mm.fit_transform(df43[['Área (km²)']])   \n",
    "df43['Densidade demográfica, 2000'] = mm.fit_transform(df43[['Densidade demográfica, 2000']])   \n",
    "df43['Distância à capital (km)'] = mm.fit_transform(df43[['Distância à capital (km)']])   \n",
    "df43['Esperança de vida ao nascer, 2000'] = mm.fit_transform(df43[['Esperança de vida ao nascer, 2000']])   \n",
    "df43['Mortalidade até um ano de idade, 2000'] = mm.fit_transform(df43[['Mortalidade até um ano de idade, 2000']])   \n",
    "df43['Taxa de fecundidade total, 2000'] = mm.fit_transform(df43[['Taxa de fecundidade total, 2000']])   \n",
    "df43['Percentual de pessoas de 25 anos ou mais analfabetas, 2000'] = mm.fit_transform(df43[['Percentual de pessoas de 25 anos ou mais analfabetas, 2000']])   \n",
    "df43['Renda per Capita, 2000'] = mm.fit_transform(df43[['Renda per Capita, 2000']])   \n",
    "df43['Índice de Gini, 2000'] = mm.fit_transform(df43[['Índice de Gini, 2000']])   \n",
    "df43['Intensidade da indigência, 2000'] = mm.fit_transform(df43[['Intensidade da indigência, 2000']])   \n",
    "df43['Intensidade da pobreza, 2000'] = mm.fit_transform(df43[['Intensidade da pobreza, 2000']])   \n",
    "df43['Índice de Desenvolvimento Humano Municipal, 2000'] = mm.fit_transform(df43[['Índice de Desenvolvimento Humano Municipal, 2000']])   \n",
    "df43['Taxa bruta de freqüência à escola, 2000'] = mm.fit_transform(df43[['Taxa bruta de freqüência à escola, 2000']])   \n",
    "df43['Taxa de alfabetização, 2000'] = mm.fit_transform(df43[['Taxa de alfabetização, 2000']])   \n",
    "df43['Média de anos de estudo das pessoas de 25 anos ou mais de idade, 2000'] = mm.fit_transform(df43[['Média de anos de estudo das pessoas de 25 anos ou mais de idade, 2000']])   \n",
    "df43['População de 25 anos ou mais de idade, 1991'] = mm.fit_transform(df43[['População de 25 anos ou mais de idade, 1991']])   \n",
    "df43['População de 25 anos ou mais de idade, 2000'] = mm.fit_transform(df43[['População de 25 anos ou mais de idade, 2000']])   \n",
    "df43['População de 65 anos ou mais de idade, 1991'] = mm.fit_transform(df43[['População de 65 anos ou mais de idade, 1991']])   \n",
    "df43['População de 65 anos ou mais de idade, 2000'] = mm.fit_transform(df43[['População de 65 anos ou mais de idade, 2000']])   \n",
    "df43['População total, 1991'] = mm.fit_transform(df43[['População total, 1991']])   \n",
    "df43['População total, 2000'] = mm.fit_transform(df43[['População total, 2000']])   \n",
    "df43['População urbana, 2000'] = mm.fit_transform(df43[['População urbana, 2000']])   \n",
    "df43['População rural, 2000'] = mm.fit_transform(df43[['População rural, 2000']])   \n",
    "df43['cresc_popu_1991_2000'] = mm.fit_transform(df43[['cresc_popu_1991_2000']])   \n",
    "df43['receita_pop_mercado_2000']= mm.fit_transform(df43[['receita_pop_mercado_2000']]) \n",
    "\n",
    "X = df43.copy()"
   ]
  },
  {
   "cell_type": "code",
   "execution_count": null,
   "id": "5c1d456b",
   "metadata": {
    "ExecuteTime": {
     "end_time": "2022-03-27T05:49:10.253328Z",
     "start_time": "2022-03-27T05:49:00.878329Z"
    }
   },
   "outputs": [],
   "source": []
  },
  {
   "cell_type": "markdown",
   "id": "1df97871",
   "metadata": {},
   "source": [
    "### 4.3.1 PCA"
   ]
  },
  {
   "cell_type": "code",
   "execution_count": null,
   "id": "71865f61",
   "metadata": {
    "ExecuteTime": {
     "end_time": "2022-03-28T03:04:42.437193Z",
     "start_time": "2022-03-28T03:04:42.437193Z"
    },
    "scrolled": true
   },
   "outputs": [],
   "source": [
    "pca = dd.PCA(n_components = X.shape[1], )\n",
    "\n",
    "principal_components = pca.fit_transform( X )\n",
    "\n",
    "# plot explained variable\n",
    "features = range( pca.n_components_ )\n",
    "\n",
    "plt.bar(features, pca.explained_variance_ratio_, color = 'black')\n",
    "\n",
    "#pca component\n",
    "df_pca = pd.DataFrame (principal_components)"
   ]
  },
  {
   "cell_type": "code",
   "execution_count": null,
   "id": "dffcfbea",
   "metadata": {
    "ExecuteTime": {
     "end_time": "2022-03-28T03:04:42.438196Z",
     "start_time": "2022-03-28T03:04:42.438196Z"
    }
   },
   "outputs": [],
   "source": [
    "sns.scatterplot (x = 0, y = 1, data = df_pca) "
   ]
  },
  {
   "cell_type": "code",
   "execution_count": null,
   "id": "586c4e84",
   "metadata": {
    "ExecuteTime": {
     "end_time": "2022-03-28T03:04:42.439193Z",
     "start_time": "2022-03-28T03:04:42.439193Z"
    }
   },
   "outputs": [],
   "source": [
    "df_pca.head()"
   ]
  },
  {
   "cell_type": "code",
   "execution_count": null,
   "id": "0b72f2a5",
   "metadata": {},
   "outputs": [],
   "source": []
  },
  {
   "cell_type": "markdown",
   "id": "ed948d59",
   "metadata": {},
   "source": [
    "# 5.0 Data Preparation"
   ]
  },
  {
   "cell_type": "code",
   "execution_count": null,
   "id": "b80b8c4f",
   "metadata": {
    "ExecuteTime": {
     "end_time": "2022-03-28T03:04:42.440191Z",
     "start_time": "2022-03-28T03:04:42.440191Z"
    }
   },
   "outputs": [],
   "source": [
    "df5 = df4.copy()"
   ]
  },
  {
   "cell_type": "code",
   "execution_count": null,
   "id": "db9b7f27",
   "metadata": {
    "ExecuteTime": {
     "end_time": "2022-03-28T03:04:42.441192Z",
     "start_time": "2022-03-28T03:04:42.441192Z"
    }
   },
   "outputs": [],
   "source": [
    "## Standard Scaler\n",
    "ss = pp.StandardScaler()\n",
    "\n",
    "df5['receita_pop_mercado_2000'] = ss.fit_transform( df5[['receita_pop_mercado_2000']] )"
   ]
  },
  {
   "cell_type": "code",
   "execution_count": null,
   "id": "1e7e9068",
   "metadata": {},
   "outputs": [],
   "source": []
  },
  {
   "cell_type": "code",
   "execution_count": null,
   "id": "f9b123a6",
   "metadata": {},
   "outputs": [],
   "source": []
  },
  {
   "cell_type": "code",
   "execution_count": null,
   "id": "addea5a1",
   "metadata": {
    "ExecuteTime": {
     "end_time": "2022-03-28T03:04:42.442191Z",
     "start_time": "2022-03-28T03:04:42.442191Z"
    }
   },
   "outputs": [],
   "source": [
    "df5.head()"
   ]
  },
  {
   "cell_type": "code",
   "execution_count": null,
   "id": "3ef037cd",
   "metadata": {},
   "outputs": [],
   "source": []
  },
  {
   "cell_type": "markdown",
   "id": "bce67f0c",
   "metadata": {},
   "source": [
    "# 6.0 Feature Selection"
   ]
  },
  {
   "cell_type": "code",
   "execution_count": null,
   "id": "6e829f69",
   "metadata": {
    "ExecuteTime": {
     "end_time": "2022-03-28T03:04:42.443192Z",
     "start_time": "2022-03-28T03:04:42.443192Z"
    }
   },
   "outputs": [],
   "source": [
    "df6 = df5.copy()\n",
    "df6.head()"
   ]
  },
  {
   "cell_type": "markdown",
   "id": "0f21394e",
   "metadata": {},
   "source": [
    "# 7.0 Hyperparameter Fine-Tunning"
   ]
  },
  {
   "cell_type": "code",
   "execution_count": null,
   "id": "85a64769",
   "metadata": {
    "ExecuteTime": {
     "end_time": "2022-03-28T03:04:42.444192Z",
     "start_time": "2022-03-28T03:04:42.444192Z"
    }
   },
   "outputs": [],
   "source": [
    "# tiro a coluna código para aplicar o kluster somente nas features relevantes\n",
    "x = df6.drop( columns=['Código', 'nome' ] )\n",
    "x.head()"
   ]
  },
  {
   "cell_type": "code",
   "execution_count": null,
   "id": "ba2b4c06",
   "metadata": {
    "ExecuteTime": {
     "end_time": "2022-03-28T03:04:42.445191Z",
     "start_time": "2022-03-28T03:04:42.445191Z"
    }
   },
   "outputs": [],
   "source": [
    "# criação dos cluster para avaliar a melhor métrica\n",
    "clusters = [2, 3, 4, 5, 6]"
   ]
  },
  {
   "cell_type": "markdown",
   "id": "fb93d421",
   "metadata": {},
   "source": [
    "## 7.1 Within-Cluster Sum of Square (WSS)"
   ]
  },
  {
   "cell_type": "code",
   "execution_count": null,
   "id": "6dcd5f4e",
   "metadata": {
    "ExecuteTime": {
     "end_time": "2022-03-28T03:04:42.446190Z",
     "start_time": "2022-03-28T03:04:42.446190Z"
    },
    "scrolled": false
   },
   "outputs": [],
   "source": [
    "wss = []\n",
    "\n",
    "for k in clusters:\n",
    "    # model definition\n",
    "    kmeans = c.KMeans (init = 'random', n_clusters = k, n_init = 10, max_iter = 300, random_state = 42)\n",
    "    \n",
    "    # model training\n",
    "    kmeans.fit(x)\n",
    "    \n",
    "    # validation\n",
    "    wss.append( kmeans.inertia_ )\n",
    "    \n",
    "# plot wss - elbow method\n",
    "#plt.plot( clusters, wss, linestyle = '--', marker = 'o', color = 'b' )\n",
    "#plt.xlabel ( 'K')\n",
    "#plt.ylabel ('Within-Cluster Sum of Square')\n",
    "#plt.title('WSS vs K' )"
   ]
  },
  {
   "cell_type": "code",
   "execution_count": null,
   "id": "7498c662",
   "metadata": {
    "ExecuteTime": {
     "end_time": "2022-03-28T03:04:42.447191Z",
     "start_time": "2022-03-28T03:04:42.447191Z"
    }
   },
   "outputs": [],
   "source": [
    "#pontos de inflexão: 3, 4 e 5\n",
    "\n",
    "kmeans = KElbowVisualizer( c.KMeans(), k= clusters, timings = False  )\n",
    "kmeans.fit(x)\n",
    "kmeans.show()"
   ]
  },
  {
   "cell_type": "code",
   "execution_count": null,
   "id": "d0a6a9eb",
   "metadata": {
    "ExecuteTime": {
     "end_time": "2022-03-28T03:04:42.448193Z",
     "start_time": "2022-03-28T03:04:42.448193Z"
    },
    "scrolled": true
   },
   "outputs": [],
   "source": [
    "wss"
   ]
  },
  {
   "cell_type": "markdown",
   "id": "7e47aa46",
   "metadata": {
    "hide_input": false
   },
   "source": [
    "## 7.2 Sillhouette Score"
   ]
  },
  {
   "cell_type": "code",
   "execution_count": null,
   "id": "1475284f",
   "metadata": {
    "ExecuteTime": {
     "end_time": "2022-03-28T03:04:42.450192Z",
     "start_time": "2022-03-28T03:04:42.450192Z"
    }
   },
   "outputs": [],
   "source": [
    "kmeans = KElbowVisualizer( c.KMeans(), k= clusters, metric = 'silhouette', timings = False  )\n",
    "kmeans.fit(x)\n",
    "kmeans.show()"
   ]
  },
  {
   "cell_type": "markdown",
   "id": "9d25b847",
   "metadata": {},
   "source": [
    "## 7.3 Sihlouette Analysis"
   ]
  },
  {
   "cell_type": "code",
   "execution_count": null,
   "id": "a1e600a0",
   "metadata": {
    "ExecuteTime": {
     "end_time": "2022-03-28T03:04:42.450192Z",
     "start_time": "2022-03-28T03:04:42.450192Z"
    },
    "scrolled": false
   },
   "outputs": [],
   "source": [
    "x.head()"
   ]
  },
  {
   "cell_type": "code",
   "execution_count": null,
   "id": "cec47b7f",
   "metadata": {
    "ExecuteTime": {
     "end_time": "2022-03-28T03:04:42.451192Z",
     "start_time": "2022-03-28T03:04:42.451192Z"
    }
   },
   "outputs": [],
   "source": [
    "fig, ax = plt.subplots(3 , 2, figsize = (25,18) )\n",
    "\n",
    "k = [2, 3, 4, 5, 6]\n",
    "for k in clusters:    \n",
    "    km = c.KMeans( n_clusters = k, init = 'random', n_init = 10, max_iter = 100, random_state = 42)\n",
    "    q, mod = divmod(k, 2)\n",
    "    visualizer = SilhouetteVisualizer ( km, color = 'yellowbrick', ax = ax[q-1][mod])\n",
    "    visualizer.fit(x)\n",
    "    visualizer.finalize()"
   ]
  },
  {
   "cell_type": "markdown",
   "id": "d7f397aa",
   "metadata": {},
   "source": [
    "# 8.0 Model Training"
   ]
  },
  {
   "cell_type": "markdown",
   "id": "98ff28f4",
   "metadata": {},
   "source": [
    "## 8.1 K-Means"
   ]
  },
  {
   "cell_type": "code",
   "execution_count": null,
   "id": "c4862061",
   "metadata": {
    "ExecuteTime": {
     "end_time": "2022-03-28T03:04:42.452193Z",
     "start_time": "2022-03-28T03:04:42.452193Z"
    }
   },
   "outputs": [],
   "source": [
    "# model definition\n",
    "k = 6 \n",
    "kmeans = c.KMeans (init = 'random', n_clusters = k,n_init = 10, max_iter = 300, random_state = 42)\n",
    "\n",
    "# model training\n",
    "kmeans.fit( x )\n",
    "\n",
    "#clustering\n",
    "labels = kmeans.labels_"
   ]
  },
  {
   "cell_type": "markdown",
   "id": "ec1f2374",
   "metadata": {
    "ExecuteTime": {
     "end_time": "2022-03-25T19:47:01.033627Z",
     "start_time": "2022-03-25T19:47:01.015627Z"
    }
   },
   "source": [
    "## 8.2 Cluster Validation"
   ]
  },
  {
   "cell_type": "code",
   "execution_count": null,
   "id": "975df06b",
   "metadata": {
    "ExecuteTime": {
     "end_time": "2022-03-26T01:11:35.012641Z",
     "start_time": "2022-03-26T01:11:34.256316Z"
    }
   },
   "outputs": [],
   "source": []
  },
  {
   "cell_type": "code",
   "execution_count": null,
   "id": "26e5f1c1",
   "metadata": {
    "ExecuteTime": {
     "end_time": "2022-03-28T03:04:42.453193Z",
     "start_time": "2022-03-28T03:04:42.453193Z"
    }
   },
   "outputs": [],
   "source": [
    "## WSS (Within-cluster sum of square)\n",
    "print('WSS vale: {}'.format( kmeans.inertia_) )\n",
    "\n",
    "## SS (Silhouette Score)\n",
    "print('SS vale: {}'.format( m.silhouette_score(x, labels, metric = 'euclidean') ) )"
   ]
  },
  {
   "cell_type": "code",
   "execution_count": null,
   "id": "14f71ad2",
   "metadata": {
    "ExecuteTime": {
     "end_time": "2022-03-25T22:44:23.974273Z",
     "start_time": "2022-03-25T22:44:23.275593Z"
    }
   },
   "outputs": [],
   "source": []
  },
  {
   "cell_type": "markdown",
   "id": "cc413907",
   "metadata": {},
   "source": [
    "# 9.0 Cluster Analysis"
   ]
  },
  {
   "cell_type": "code",
   "execution_count": null,
   "id": "75801c52",
   "metadata": {
    "ExecuteTime": {
     "end_time": "2022-03-28T03:04:42.455192Z",
     "start_time": "2022-03-28T03:04:42.455192Z"
    }
   },
   "outputs": [],
   "source": [
    "df9 = df6.copy()\n",
    "df9['cluster'] = labels\n",
    "df9.head()"
   ]
  },
  {
   "cell_type": "markdown",
   "id": "5b0da567",
   "metadata": {},
   "source": [
    "## 9.1 Visualization Inspection"
   ]
  },
  {
   "cell_type": "code",
   "execution_count": null,
   "id": "ab423b8b",
   "metadata": {
    "ExecuteTime": {
     "end_time": "2022-03-28T03:04:42.456191Z",
     "start_time": "2022-03-28T03:04:42.456191Z"
    }
   },
   "outputs": [],
   "source": [
    "visualizer = SilhouetteVisualizer(kmeans, colors ='yellowbrick')\n",
    "visualizer.fit(x)\n",
    "visualizer.finalize()"
   ]
  },
  {
   "cell_type": "markdown",
   "id": "f2076a65",
   "metadata": {},
   "source": [
    "## 9.2 2d plot"
   ]
  },
  {
   "cell_type": "code",
   "execution_count": null,
   "id": "3ed8f5c2",
   "metadata": {
    "ExecuteTime": {
     "end_time": "2022-03-28T03:04:42.457192Z",
     "start_time": "2022-03-28T03:04:42.457192Z"
    }
   },
   "outputs": [],
   "source": [
    "df9.head()"
   ]
  },
  {
   "cell_type": "code",
   "execution_count": null,
   "id": "57178870",
   "metadata": {
    "ExecuteTime": {
     "end_time": "2022-03-28T03:04:42.457192Z",
     "start_time": "2022-03-28T03:04:42.457192Z"
    }
   },
   "outputs": [],
   "source": [
    "df_viz = df9.drop(columns= 'Código', axis = 1)"
   ]
  },
  {
   "cell_type": "code",
   "execution_count": null,
   "id": "1809d89e",
   "metadata": {
    "ExecuteTime": {
     "end_time": "2022-03-28T03:04:42.458191Z",
     "start_time": "2022-03-28T03:04:42.458191Z"
    }
   },
   "outputs": [],
   "source": [
    "# dificil visualização quando tenho muitas features\n",
    "sns.pairplot(df_viz, hue = 'cluster')"
   ]
  },
  {
   "cell_type": "markdown",
   "id": "110490dd",
   "metadata": {},
   "source": [
    "## 9.3 UMAP \n",
    "\n",
    "Manifold: aprendizado por topologia\n",
    "    \n",
    "    - visualização da projeção dos dados em alta dimensionalidade"
   ]
  },
  {
   "cell_type": "code",
   "execution_count": null,
   "id": "419459f5",
   "metadata": {
    "ExecuteTime": {
     "end_time": "2022-03-28T03:04:42.459191Z",
     "start_time": "2022-03-28T03:04:42.459191Z"
    }
   },
   "outputs": [],
   "source": [
    "x.head()"
   ]
  },
  {
   "cell_type": "code",
   "execution_count": null,
   "id": "50d9cb3e",
   "metadata": {
    "ExecuteTime": {
     "end_time": "2022-03-28T03:04:42.460192Z",
     "start_time": "2022-03-28T03:04:42.460192Z"
    }
   },
   "outputs": [],
   "source": [
    "#n_neighbors: quanto menor, mais perto eu estou vendo, quanto maior, mais de longe eu estou vendo\n",
    "reducer = umap.UMAP( n_neighbors= 10,random_state = 42)\n",
    "embedding = reducer.fit_transform(x)\n",
    "\n",
    "# embedding \n",
    "df_viz['embedding_x'] = embedding[:,0]\n",
    "df_viz['embedding_y'] = embedding[:,1]\n",
    "\n",
    "#plot UMAP\n",
    "sns.scatterplot(x = 'embedding_x', y = 'embedding_y',\n",
    "               hue= 'cluster',\n",
    "               palette = sns.color_palette('hls', n_colors = len(df_viz['cluster'].unique() ) ), \n",
    "               data = df_viz )\n"
   ]
  },
  {
   "cell_type": "markdown",
   "id": "055b9e86",
   "metadata": {},
   "source": [
    "## 9.2 Cluster Profile"
   ]
  },
  {
   "cell_type": "code",
   "execution_count": null,
   "id": "1971a577",
   "metadata": {
    "ExecuteTime": {
     "end_time": "2022-03-28T03:04:42.461191Z",
     "start_time": "2022-03-28T03:04:42.461191Z"
    }
   },
   "outputs": [],
   "source": [
    "df9.head()"
   ]
  },
  {
   "cell_type": "code",
   "execution_count": null,
   "id": "0e8a068a",
   "metadata": {
    "ExecuteTime": {
     "end_time": "2022-03-28T03:04:42.462192Z",
     "start_time": "2022-03-28T03:04:42.462192Z"
    }
   },
   "outputs": [],
   "source": [
    "# numero de municipios por cluster\n",
    "df_cluster1 = df9[['População urbana, 2000', 'cluster']].groupby('cluster').count().reset_index()\n",
    "\n",
    "# populacao total por cluster\n",
    "df_cluster2 = df9[['População total, 2000', 'cluster']].groupby('cluster').sum().reset_index()\n",
    "\n",
    "# porcentagem da populacao por cluster\n",
    "df_cluster2['perc_populacao'] = 100 * ( df_cluster2['População total, 2000'] /\n",
    "                                        df_cluster2['População total, 2000'].sum() )                            \n",
    "\n",
    "# receita total da populacao\n",
    "df_cluster3 = df9[['receita_pop_mercado_2000', 'cluster']].groupby('cluster').sum().reset_index()\n",
    "\n",
    "# IDHM\n",
    "df_cluster4 = df9[['Índice de Desenvolvimento Humano Municipal, 2000',\n",
    "                   'cluster']].groupby('cluster').mean().reset_index()\n",
    "\n",
    "# merge dos dataframes\n",
    "df_cluster = pd.merge( df_cluster1, df_cluster2,how = 'left', on = 'cluster'  )\n",
    "df_cluster = pd.merge( df_cluster, df_cluster3, how = 'left', on = 'cluster'  )\n",
    "df_cluster = pd.merge( df_cluster, df_cluster4, how = 'left', on = 'cluster'  )\n",
    "\n",
    "df_cluster.columns = ['cluster', 'numero_de_municipios', 'População total, 2000', \n",
    "                     'perc_populacao, 2000', 'receita_pop_mercado_2000', 'IDHM_medio']\n",
    "\n",
    "\n",
    "# dataframe final\n",
    "df_cluster"
   ]
  },
  {
   "cell_type": "markdown",
   "id": "0df1f2fe",
   "metadata": {},
   "source": [
    "### Cluster 00:\n",
    "        \n",
    "        - Número de municipios: 67\n",
    "        - População Total, 2000: 18.691.596 (11% da população total)\n",
    "        - Receita da população destinada a itens de mercado, 2000: R$ 1.365.543.000,000 \n",
    "        - IDHM Médio, 2000: 0.8\n",
    "\n",
    "\n",
    "### Cluster 01:\n",
    "        \n",
    "        - Número de municipios: 5135\n",
    "        - População Total, 2000: 72.808.636 (42,8% da população total)\n",
    "        - Receita da população destinada a itens de mercado, 2000: R$ 2.562.848.000,000 \n",
    "        - IDHM Médio, 2000: 0.69\n",
    "\n",
    "\n",
    "### Cluster 02:\n",
    "\n",
    "        - Número de municipios: 30\n",
    "        - População Total, 2000: 19.118.581 ( 11,26% da população total )\n",
    "        - Receita da população destinada a itens de mercado, 2000: R$ 1.631.235.000,000\n",
    "        - IDHM Médio, 2000: 0.81\n",
    "\n",
    "\n",
    "### Cluster 03:\n",
    "\n",
    "        - Número de municipios: 9\n",
    "        - População Total, 2000: 15.307.394 ( 9,01% da população total)\n",
    "        - Receita da população destinada a itens de mercado, 2000: R$ 1.680.808.000,00\n",
    "        - IDHM Médio, 2000: 0.83\n",
    "\n",
    "\n",
    "### Cluster 04:\n",
    "\n",
    "        - Número de municipios: 264\n",
    "        - População Total, 2000: 27.580.807 (16,24% da população total)\n",
    "        - Receita da população destinada a itens de mercado, 2000: R$ 1.714.149.000,00\n",
    "        - IDHM Médio, 2000: 0.78\n",
    "\n",
    "\n",
    "### Cluster 05:\n",
    "\n",
    "        - Número de municipios: 2\n",
    "        - População Total, 2000: 16.292.156 ( 9.59% da população total)\n",
    "        - Receita da população destinada a itens de mercado, 2000: R$ 2.169.294.000,00\n",
    "        - IDHM Médio, 2000: 0.84\n",
    "        \n",
    "        "
   ]
  }
 ],
 "metadata": {
  "kernelspec": {
   "display_name": "Python 3 (ipykernel)",
   "language": "python",
   "name": "python3"
  },
  "language_info": {
   "codemirror_mode": {
    "name": "ipython",
    "version": 3
   },
   "file_extension": ".py",
   "mimetype": "text/x-python",
   "name": "python",
   "nbconvert_exporter": "python",
   "pygments_lexer": "ipython3",
   "version": "3.9.7"
  }
 },
 "nbformat": 4,
 "nbformat_minor": 5
}
